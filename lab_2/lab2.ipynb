{
 "cells": [
  {
   "cell_type": "code",
   "execution_count": 1,
   "id": "de0396122080d568",
   "metadata": {
    "ExecuteTime": {
     "end_time": "2024-03-30T07:26:14.099849Z",
     "start_time": "2024-03-30T07:26:13.441237Z"
    },
    "collapsed": false
   },
   "outputs": [],
   "source": [
    "import pandas as pd\n",
    "import requests\n",
    "import datetime\n",
    "import urllib.request\n",
    "import os\n"
   ]
  },
  {
   "cell_type": "markdown",
   "id": "cf675c92d0a4a1c",
   "metadata": {
    "collapsed": false
   },
   "source": [
    "Download"
   ]
  },
  {
   "cell_type": "code",
   "execution_count": 2,
   "id": "8dbd24892bd7d25f",
   "metadata": {
    "ExecuteTime": {
     "start_time": "2024-03-30T07:20:16.582507Z"
    },
    "collapsed": false,
    "is_executing": true
   },
   "outputs": [
    {
     "name": "stdout",
     "output_type": "stream",
     "text": [
      "Id 1 +\n",
      "Id 2 +\n",
      "Id 3 +\n",
      "Id 4 +\n",
      "Id 5 +\n",
      "Id 6 +\n",
      "Id 7 +\n",
      "Id 8 +\n",
      "Id 9 +\n",
      "Id 10 +\n",
      "Id 11 +\n",
      "Id 12 +\n",
      "Id 13 +\n",
      "Id 14 +\n",
      "Id 15 +\n",
      "Id 16 +\n",
      "Id 17 +\n",
      "Id 18 +\n",
      "Id 19 +\n",
      "Id 20 +\n",
      "Id 21 +\n",
      "Id 22 +\n",
      "Id 23 +\n",
      "Id 24 +\n",
      "Id 25 +\n",
      "Id 26 +\n",
      "Id 27 +\n"
     ]
    }
   ],
   "source": [
    "for ids in range(1, 28):\n",
    "    url = f\"https://www.star.nesdis.noaa.gov/smcd/emb/vci/VH/get_TS_admin.php?country=UKR&provinceID={ids}&year1=1981&year2=2024&type=Mean\"\n",
    "    response = requests.get(url)\n",
    "    if response.status_code == 200:\n",
    "        if not os.path.exists('vhi'):\n",
    "            os.mkdir('vhi')\n",
    "        date_now = datetime.datetime.now().strftime(\"%Y-%m-%d_%H-%M-%S\")\n",
    "        vhi_url = urllib.request.urlopen(url)\n",
    "        file_name = f'vhi/vhi_id_{ids}_{date_now}.csv'\n",
    "        out = open(file_name, 'wb')\n",
    "        out.write(vhi_url.read())\n",
    "        out.close()\n",
    "        print(f\"Id {ids} +\")\n",
    "    else:\n",
    "        print(f\"Success\")\n",
    "        break"
   ]
  },
  {
   "cell_type": "markdown",
   "id": "80489f43036ad07f",
   "metadata": {
    "collapsed": false
   },
   "source": [
    "Даю імена та додаю у фрейм"
   ]
  },
  {
   "cell_type": "code",
   "execution_count": null,
   "id": "db482e126477ec7f",
   "metadata": {
    "ExecuteTime": {
     "end_time": "2024-03-30T09:00:42.185037Z",
     "start_time": "2024-03-30T09:00:41.975937Z"
    },
    "collapsed": false
   },
   "outputs": [
    {
     "name": "stdout",
     "output_type": "stream",
     "text": [
      "       Year  Week    SMN     SMT    VCI    TCI    VHI  area\n",
      "0      1982   2.0  0.063  261.53  55.89  38.20  47.04    10\n",
      "1      1982   3.0  0.063  263.45  57.30  32.69  44.99    10\n",
      "2      1982   4.0  0.061  265.10  53.96  28.62  41.29    10\n",
      "3      1982   5.0  0.058  266.42  46.87  28.57  37.72    10\n",
      "4      1982   6.0  0.056  267.47  39.55  30.27  34.91    10\n",
      "...     ...   ...    ...     ...    ...    ...    ...   ...\n",
      "58990  2024  48.0  0.135  278.17  55.23  11.86  33.55     9\n",
      "58991  2024  49.0  0.133  277.08  57.71  10.86  34.29     9\n",
      "58992  2024  50.0  0.130  276.49  59.45   8.68  34.07     9\n",
      "58993  2024  51.0  0.128  276.45  62.53   5.55  34.04     9\n",
      "58994  2024  52.0  0.129  276.48  66.13   3.71  34.92     9\n",
      "\n",
      "[58995 rows x 8 columns]\n"
     ]
    }
   ],
   "source": [
    "folder = 'vhi'\n",
    "files = os.listdir(folder)\n",
    "\n",
    "df_all = []\n",
    "\n",
    "for file_name in files:\n",
    "    headers = ['Year', 'Week', 'SMN', 'SMT', 'VCI', 'TCI', 'VHI', 'empty']\n",
    "    df = pd.read_csv(f'{folder}/{file_name}', header=1, names=headers, skiprows=1)\n",
    "\n",
    "    df = df.drop(columns=['empty'], errors='ignore')\n",
    "\n",
    "    df['VHI'] = pd.to_numeric(df['VHI'], errors='coerce')\n",
    "    df = df[df['VHI'] != -1].dropna()\n",
    "\n",
    "    parts = file_name.split(\"_\")\n",
    "    if len(parts) > 2 and parts[2].isdigit():\n",
    "        df['area'] = int(parts[2])\n",
    "    else:\n",
    "        print(f\"Area Error in {file_name}\")\n",
    "        continue \n",
    "\n",
    "    df_all.append(df)\n",
    "\n",
    "df_all = pd.concat(df_all, ignore_index=True)\n",
    "\n",
    "df_all = df_all.dropna(axis=1, how='all')\n",
    "\n",
    "print(df_all)"
   ]
  },
  {
   "cell_type": "markdown",
   "id": "42b687c4180eeb1",
   "metadata": {
    "collapsed": false
   },
   "source": [
    " індекси "
   ]
  },
  {
   "cell_type": "code",
   "execution_count": 5,
   "id": "2b145b37d7eb786a",
   "metadata": {
    "ExecuteTime": {
     "end_time": "2024-03-30T07:36:02.703521Z",
     "start_time": "2024-03-30T07:36:02.414932Z"
    },
    "collapsed": false
   },
   "outputs": [
    {
     "name": "stdout",
     "output_type": "stream",
     "text": [
      "       Year  Week    SMN     SMT    VCI    TCI    VHI  area\n",
      "0      1982   2.0  0.063  261.53  55.89  38.20  47.04    17\n",
      "1      1982   3.0  0.063  263.45  57.30  32.69  44.99    17\n",
      "2      1982   4.0  0.061  265.10  53.96  28.62  41.29    17\n",
      "3      1982   5.0  0.058  266.42  46.87  28.57  37.72    17\n",
      "4      1982   6.0  0.056  267.47  39.55  30.27  34.91    17\n",
      "...     ...   ...    ...     ...    ...    ...    ...   ...\n",
      "58990  2024  48.0  0.135  278.17  55.23  11.86  33.55    20\n",
      "58991  2024  49.0  0.133  277.08  57.71  10.86  34.29    20\n",
      "58992  2024  50.0  0.130  276.49  59.45   8.68  34.07    20\n",
      "58993  2024  51.0  0.128  276.45  62.53   5.55  34.04    20\n",
      "58994  2024  52.0  0.129  276.48  66.13   3.71  34.92    20\n",
      "\n",
      "[58995 rows x 8 columns]\n"
     ]
    }
   ],
   "source": [
    "dict_areas = {1: 22, 2: 24, 3: 23, 4: 25, 5: 3, 6: 4, 7: 8, 8: 19, 9: 20, 10: 21, 11: 9, 13: 10, 14: 11, 15: 12,\n",
    "              16: 13, 17: 15, 18: 14, 19: 16, 21: 17, 22: 18, 23: 6, 24: 1, 25: 2, 26: 7, 27: 5}\n",
    "df_all[\"area\"] = df_all[\"area\"].replace(dict_areas)\n",
    "df_all.to_csv(f'vhi/df_all.csv', index=False)\n",
    "\n",
    "print(df_all)"
   ]
  },
  {
   "cell_type": "markdown",
   "id": "632a3adc656dbfd6",
   "metadata": {
    "collapsed": false
   },
   "source": [
    " VHI обл min max "
   ]
  },
  {
   "cell_type": "code",
   "execution_count": 6,
   "id": "9dbad0af5f294086",
   "metadata": {
    "ExecuteTime": {
     "end_time": "2024-03-30T07:36:47.171914Z",
     "start_time": "2024-03-30T07:36:47.157949Z"
    },
    "collapsed": false
   },
   "outputs": [],
   "source": [
    "def vhi(area, year):\n",
    "    return df_all[(df_all[\"area\"] == area) & (df_all[\"Year\"] == year)]['VHI']\n",
    "\n",
    "def vhi_min(area, year):\n",
    "    return df_all[(df_all[\"area\"] == area) & (df_all[\"Year\"] == year)]['VHI'].min()\n",
    "\n",
    "def vhi_max(area, year):\n",
    "    return df_all[(df_all[\"area\"] == area) & (df_all[\"Year\"] == year)]['VHI'].max()\n",
    "\n",
    "df_all['Year'] = df_all['Year'].astype(int)"
   ]
  },
  {
   "cell_type": "code",
   "execution_count": 7,
   "id": "5c67ef44cb95dba5",
   "metadata": {
    "ExecuteTime": {
     "end_time": "2024-03-30T07:36:48.988524Z",
     "start_time": "2024-03-30T07:36:48.978634Z"
    },
    "collapsed": false
   },
   "outputs": [
    {
     "data": {
      "text/plain": [
       "44846    58.56\n",
       "44847    58.17\n",
       "44848    57.93\n",
       "44849    56.31\n",
       "44850    55.12\n",
       "44851    55.53\n",
       "44852    55.52\n",
       "44853    56.71\n",
       "44854    58.18\n",
       "44855    58.16\n",
       "44856    56.41\n",
       "44857    54.59\n",
       "44858    52.91\n",
       "44859    51.27\n",
       "44860    48.86\n",
       "44861    47.07\n",
       "44862    53.93\n",
       "44863    56.75\n",
       "44864    53.90\n",
       "44865    59.28\n",
       "44866    59.89\n",
       "44867    61.36\n",
       "44868    61.12\n",
       "44869    60.61\n",
       "44870    60.48\n",
       "44871    59.96\n",
       "44872    60.65\n",
       "44873    63.13\n",
       "44874    61.80\n",
       "44875    64.25\n",
       "44876    67.13\n",
       "44877    67.95\n",
       "44878    69.03\n",
       "44879    67.92\n",
       "44880    63.81\n",
       "44881    60.01\n",
       "44882    58.51\n",
       "44883    56.77\n",
       "44884    57.30\n",
       "44885    55.84\n",
       "44886    50.05\n",
       "44887    48.04\n",
       "44888    47.48\n",
       "44889    47.63\n",
       "44890    47.35\n",
       "44891    45.18\n",
       "44892    46.77\n",
       "44893    48.25\n",
       "44894    48.50\n",
       "44895    49.37\n",
       "44896    50.15\n",
       "Name: VHI, dtype: float64"
      ]
     },
     "execution_count": 7,
     "metadata": {},
     "output_type": "execute_result"
    }
   ],
   "source": [
    "vhi(6, 2005)"
   ]
  },
  {
   "cell_type": "code",
   "execution_count": 8,
   "id": "c2bb5911b9baf5ff",
   "metadata": {
    "ExecuteTime": {
     "end_time": "2024-03-30T07:38:09.963608Z",
     "start_time": "2024-03-30T07:38:09.955150Z"
    },
    "collapsed": false
   },
   "outputs": [
    {
     "data": {
      "text/plain": [
       "np.float64(45.18)"
      ]
     },
     "execution_count": 8,
     "metadata": {},
     "output_type": "execute_result"
    }
   ],
   "source": [
    "vhi_min(6, 2005)\n"
   ]
  },
  {
   "cell_type": "code",
   "execution_count": 9,
   "id": "351177b371823c66",
   "metadata": {
    "ExecuteTime": {
     "end_time": "2024-03-27T17:09:47.137101Z",
     "start_time": "2024-03-27T17:09:47.129144Z"
    },
    "collapsed": false
   },
   "outputs": [
    {
     "data": {
      "text/plain": [
       "np.float64(69.03)"
      ]
     },
     "execution_count": 9,
     "metadata": {},
     "output_type": "execute_result"
    }
   ],
   "source": [
    "vhi_max(6, 2005)"
   ]
  },
  {
   "cell_type": "markdown",
   "id": "6c4fa7f1dc1034",
   "metadata": {
    "collapsed": false
   },
   "source": [
    "VHI діапазон років"
   ]
  },
  {
   "cell_type": "code",
   "execution_count": 10,
   "id": "d6330356711067b2",
   "metadata": {
    "ExecuteTime": {
     "end_time": "2024-03-30T07:39:41.943891Z",
     "start_time": "2024-03-30T07:39:41.937760Z"
    },
    "collapsed": false
   },
   "outputs": [],
   "source": [
    "def vhi_range(year_min, year_max, areas):\n",
    "    if not isinstance(areas, list) or not areas:\n",
    "        return print('Empty or not a list')\n",
    "    return df_all[(df_all['Year'] >= year_min) & (df_all['Year'] <= year_max) & (df_all['area'].isin(areas))][['Year', 'VHI', 'area']]"
   ]
  },
  {
   "cell_type": "code",
   "execution_count": 11,
   "id": "8f030efeac64dc00",
   "metadata": {
    "ExecuteTime": {
     "end_time": "2024-03-30T07:39:53.900239Z",
     "start_time": "2024-03-30T07:39:53.883923Z"
    },
    "collapsed": false
   },
   "outputs": [
    {
     "data": {
      "text/html": [
       "<div>\n",
       "<style scoped>\n",
       "    .dataframe tbody tr th:only-of-type {\n",
       "        vertical-align: middle;\n",
       "    }\n",
       "\n",
       "    .dataframe tbody tr th {\n",
       "        vertical-align: top;\n",
       "    }\n",
       "\n",
       "    .dataframe thead th {\n",
       "        text-align: right;\n",
       "    }\n",
       "</style>\n",
       "<table border=\"1\" class=\"dataframe\">\n",
       "  <thead>\n",
       "    <tr style=\"text-align: right;\">\n",
       "      <th></th>\n",
       "      <th>Year</th>\n",
       "      <th>VHI</th>\n",
       "      <th>area</th>\n",
       "    </tr>\n",
       "  </thead>\n",
       "  <tbody>\n",
       "    <tr>\n",
       "      <th>40235</th>\n",
       "      <td>2000</td>\n",
       "      <td>27.46</td>\n",
       "      <td>3</td>\n",
       "    </tr>\n",
       "    <tr>\n",
       "      <th>40236</th>\n",
       "      <td>2000</td>\n",
       "      <td>30.88</td>\n",
       "      <td>3</td>\n",
       "    </tr>\n",
       "    <tr>\n",
       "      <th>40237</th>\n",
       "      <td>2000</td>\n",
       "      <td>33.00</td>\n",
       "      <td>3</td>\n",
       "    </tr>\n",
       "    <tr>\n",
       "      <th>40238</th>\n",
       "      <td>2000</td>\n",
       "      <td>36.72</td>\n",
       "      <td>3</td>\n",
       "    </tr>\n",
       "    <tr>\n",
       "      <th>40239</th>\n",
       "      <td>2000</td>\n",
       "      <td>39.12</td>\n",
       "      <td>3</td>\n",
       "    </tr>\n",
       "    <tr>\n",
       "      <th>...</th>\n",
       "      <td>...</td>\n",
       "      <td>...</td>\n",
       "      <td>...</td>\n",
       "    </tr>\n",
       "    <tr>\n",
       "      <th>47077</th>\n",
       "      <td>2005</td>\n",
       "      <td>36.55</td>\n",
       "      <td>2</td>\n",
       "    </tr>\n",
       "    <tr>\n",
       "      <th>47078</th>\n",
       "      <td>2005</td>\n",
       "      <td>38.59</td>\n",
       "      <td>2</td>\n",
       "    </tr>\n",
       "    <tr>\n",
       "      <th>47079</th>\n",
       "      <td>2005</td>\n",
       "      <td>40.55</td>\n",
       "      <td>2</td>\n",
       "    </tr>\n",
       "    <tr>\n",
       "      <th>47080</th>\n",
       "      <td>2005</td>\n",
       "      <td>41.59</td>\n",
       "      <td>2</td>\n",
       "    </tr>\n",
       "    <tr>\n",
       "      <th>47081</th>\n",
       "      <td>2005</td>\n",
       "      <td>42.08</td>\n",
       "      <td>2</td>\n",
       "    </tr>\n",
       "  </tbody>\n",
       "</table>\n",
       "<p>584 rows × 3 columns</p>\n",
       "</div>"
      ],
      "text/plain": [
       "       Year    VHI  area\n",
       "40235  2000  27.46     3\n",
       "40236  2000  30.88     3\n",
       "40237  2000  33.00     3\n",
       "40238  2000  36.72     3\n",
       "40239  2000  39.12     3\n",
       "...     ...    ...   ...\n",
       "47077  2005  36.55     2\n",
       "47078  2005  38.59     2\n",
       "47079  2005  40.55     2\n",
       "47080  2005  41.59     2\n",
       "47081  2005  42.08     2\n",
       "\n",
       "[584 rows x 3 columns]"
      ]
     },
     "execution_count": 11,
     "metadata": {},
     "output_type": "execute_result"
    }
   ],
   "source": [
    "vhi_range(2000, 2005, [5, 2, 3])"
   ]
  },
  {
   "cell_type": "markdown",
   "id": "966b2871126f482f",
   "metadata": {
    "collapsed": false
   },
   "source": [
    "Екстремальні посухи + відсоток областей"
   ]
  },
  {
   "cell_type": "code",
   "execution_count": null,
   "id": "7f3324f43b066dff",
   "metadata": {
    "ExecuteTime": {
     "end_time": "2024-03-30T07:41:55.498419Z",
     "start_time": "2024-03-30T07:41:55.492828Z"
    },
    "collapsed": false
   },
   "outputs": [],
   "source": [
    "def extreme_droughts(obl):\n",
    "    df_drouhts = df_all[(df_all['VHI'] <= 15) & (df_all['VHI'] != -1)]\n",
    "    grouped = df_drouhts.groupby('Year')['area'].nunique()\n",
    "    result = grouped[grouped > (25 * obl / 100)].reset_index()\n",
    "    return result"
   ]
  },
  {
   "cell_type": "code",
   "execution_count": 13,
   "id": "c1611615e5754f8f",
   "metadata": {
    "ExecuteTime": {
     "end_time": "2024-03-30T07:42:18.748476Z",
     "start_time": "2024-03-30T07:42:18.736147Z"
    },
    "collapsed": false
   },
   "outputs": [
    {
     "data": {
      "text/html": [
       "<div>\n",
       "<style scoped>\n",
       "    .dataframe tbody tr th:only-of-type {\n",
       "        vertical-align: middle;\n",
       "    }\n",
       "\n",
       "    .dataframe tbody tr th {\n",
       "        vertical-align: top;\n",
       "    }\n",
       "\n",
       "    .dataframe thead th {\n",
       "        text-align: right;\n",
       "    }\n",
       "</style>\n",
       "<table border=\"1\" class=\"dataframe\">\n",
       "  <thead>\n",
       "    <tr style=\"text-align: right;\">\n",
       "      <th></th>\n",
       "      <th>Year</th>\n",
       "      <th>area</th>\n",
       "    </tr>\n",
       "  </thead>\n",
       "  <tbody>\n",
       "    <tr>\n",
       "      <th>0</th>\n",
       "      <td>1986</td>\n",
       "      <td>2</td>\n",
       "    </tr>\n",
       "    <tr>\n",
       "      <th>1</th>\n",
       "      <td>1993</td>\n",
       "      <td>2</td>\n",
       "    </tr>\n",
       "    <tr>\n",
       "      <th>2</th>\n",
       "      <td>2000</td>\n",
       "      <td>5</td>\n",
       "    </tr>\n",
       "    <tr>\n",
       "      <th>3</th>\n",
       "      <td>2007</td>\n",
       "      <td>5</td>\n",
       "    </tr>\n",
       "  </tbody>\n",
       "</table>\n",
       "</div>"
      ],
      "text/plain": [
       "   Year  area\n",
       "0  1986     2\n",
       "1  1993     2\n",
       "2  2000     5\n",
       "3  2007     5"
      ]
     },
     "execution_count": 13,
     "metadata": {},
     "output_type": "execute_result"
    }
   ],
   "source": [
    "extreme_droughts(5)"
   ]
  },
  {
   "cell_type": "code",
   "execution_count": null,
   "id": "f4ad8b2ed29bf275",
   "metadata": {
    "ExecuteTime": {
     "end_time": "2024-03-30T07:45:09.039147Z",
     "start_time": "2024-03-30T07:45:09.030011Z"
    },
    "collapsed": false
   },
   "outputs": [],
   "source": [
    "def moderate_droughts(obl, min=15, max=40):\n",
    "    df_drouhts = df_all[(df_all['VHI'] >= min) & (df_all['VHI'] <= max)]\n",
    "    grouped = df_drouhts.groupby('Year')['area'].nunique()\n",
    "    count_areas = df_all['area'].nunique()\n",
    "    result = grouped[grouped > (count_areas * obl / 100)].reset_index()\n",
    "    return result"
   ]
  },
  {
   "cell_type": "code",
   "execution_count": 15,
   "id": "13ae1a171ce9927b",
   "metadata": {
    "ExecuteTime": {
     "end_time": "2024-03-30T07:45:09.671329Z",
     "start_time": "2024-03-30T07:45:09.658365Z"
    },
    "collapsed": false
   },
   "outputs": [
    {
     "data": {
      "text/html": [
       "<div>\n",
       "<style scoped>\n",
       "    .dataframe tbody tr th:only-of-type {\n",
       "        vertical-align: middle;\n",
       "    }\n",
       "\n",
       "    .dataframe tbody tr th {\n",
       "        vertical-align: top;\n",
       "    }\n",
       "\n",
       "    .dataframe thead th {\n",
       "        text-align: right;\n",
       "    }\n",
       "</style>\n",
       "<table border=\"1\" class=\"dataframe\">\n",
       "  <thead>\n",
       "    <tr style=\"text-align: right;\">\n",
       "      <th></th>\n",
       "      <th>Year</th>\n",
       "      <th>area</th>\n",
       "    </tr>\n",
       "  </thead>\n",
       "  <tbody>\n",
       "    <tr>\n",
       "      <th>0</th>\n",
       "      <td>1982</td>\n",
       "      <td>23</td>\n",
       "    </tr>\n",
       "    <tr>\n",
       "      <th>1</th>\n",
       "      <td>1983</td>\n",
       "      <td>23</td>\n",
       "    </tr>\n",
       "    <tr>\n",
       "      <th>2</th>\n",
       "      <td>1984</td>\n",
       "      <td>23</td>\n",
       "    </tr>\n",
       "    <tr>\n",
       "      <th>3</th>\n",
       "      <td>1985</td>\n",
       "      <td>23</td>\n",
       "    </tr>\n",
       "    <tr>\n",
       "      <th>4</th>\n",
       "      <td>1986</td>\n",
       "      <td>23</td>\n",
       "    </tr>\n",
       "    <tr>\n",
       "      <th>5</th>\n",
       "      <td>1987</td>\n",
       "      <td>23</td>\n",
       "    </tr>\n",
       "    <tr>\n",
       "      <th>6</th>\n",
       "      <td>1988</td>\n",
       "      <td>23</td>\n",
       "    </tr>\n",
       "    <tr>\n",
       "      <th>7</th>\n",
       "      <td>1989</td>\n",
       "      <td>23</td>\n",
       "    </tr>\n",
       "    <tr>\n",
       "      <th>8</th>\n",
       "      <td>1990</td>\n",
       "      <td>23</td>\n",
       "    </tr>\n",
       "    <tr>\n",
       "      <th>9</th>\n",
       "      <td>1991</td>\n",
       "      <td>22</td>\n",
       "    </tr>\n",
       "    <tr>\n",
       "      <th>10</th>\n",
       "      <td>1992</td>\n",
       "      <td>23</td>\n",
       "    </tr>\n",
       "    <tr>\n",
       "      <th>11</th>\n",
       "      <td>1993</td>\n",
       "      <td>23</td>\n",
       "    </tr>\n",
       "    <tr>\n",
       "      <th>12</th>\n",
       "      <td>1994</td>\n",
       "      <td>23</td>\n",
       "    </tr>\n",
       "    <tr>\n",
       "      <th>13</th>\n",
       "      <td>1995</td>\n",
       "      <td>23</td>\n",
       "    </tr>\n",
       "    <tr>\n",
       "      <th>14</th>\n",
       "      <td>1996</td>\n",
       "      <td>23</td>\n",
       "    </tr>\n",
       "    <tr>\n",
       "      <th>15</th>\n",
       "      <td>1997</td>\n",
       "      <td>20</td>\n",
       "    </tr>\n",
       "    <tr>\n",
       "      <th>16</th>\n",
       "      <td>1998</td>\n",
       "      <td>16</td>\n",
       "    </tr>\n",
       "    <tr>\n",
       "      <th>17</th>\n",
       "      <td>1999</td>\n",
       "      <td>23</td>\n",
       "    </tr>\n",
       "    <tr>\n",
       "      <th>18</th>\n",
       "      <td>2000</td>\n",
       "      <td>23</td>\n",
       "    </tr>\n",
       "    <tr>\n",
       "      <th>19</th>\n",
       "      <td>2001</td>\n",
       "      <td>19</td>\n",
       "    </tr>\n",
       "    <tr>\n",
       "      <th>20</th>\n",
       "      <td>2002</td>\n",
       "      <td>20</td>\n",
       "    </tr>\n",
       "    <tr>\n",
       "      <th>21</th>\n",
       "      <td>2003</td>\n",
       "      <td>18</td>\n",
       "    </tr>\n",
       "    <tr>\n",
       "      <th>22</th>\n",
       "      <td>2004</td>\n",
       "      <td>6</td>\n",
       "    </tr>\n",
       "    <tr>\n",
       "      <th>23</th>\n",
       "      <td>2005</td>\n",
       "      <td>14</td>\n",
       "    </tr>\n",
       "    <tr>\n",
       "      <th>24</th>\n",
       "      <td>2006</td>\n",
       "      <td>19</td>\n",
       "    </tr>\n",
       "    <tr>\n",
       "      <th>25</th>\n",
       "      <td>2007</td>\n",
       "      <td>20</td>\n",
       "    </tr>\n",
       "    <tr>\n",
       "      <th>26</th>\n",
       "      <td>2008</td>\n",
       "      <td>20</td>\n",
       "    </tr>\n",
       "    <tr>\n",
       "      <th>27</th>\n",
       "      <td>2009</td>\n",
       "      <td>23</td>\n",
       "    </tr>\n",
       "    <tr>\n",
       "      <th>28</th>\n",
       "      <td>2010</td>\n",
       "      <td>21</td>\n",
       "    </tr>\n",
       "    <tr>\n",
       "      <th>29</th>\n",
       "      <td>2011</td>\n",
       "      <td>19</td>\n",
       "    </tr>\n",
       "    <tr>\n",
       "      <th>30</th>\n",
       "      <td>2012</td>\n",
       "      <td>17</td>\n",
       "    </tr>\n",
       "    <tr>\n",
       "      <th>31</th>\n",
       "      <td>2013</td>\n",
       "      <td>22</td>\n",
       "    </tr>\n",
       "    <tr>\n",
       "      <th>32</th>\n",
       "      <td>2014</td>\n",
       "      <td>19</td>\n",
       "    </tr>\n",
       "    <tr>\n",
       "      <th>33</th>\n",
       "      <td>2015</td>\n",
       "      <td>23</td>\n",
       "    </tr>\n",
       "    <tr>\n",
       "      <th>34</th>\n",
       "      <td>2016</td>\n",
       "      <td>21</td>\n",
       "    </tr>\n",
       "    <tr>\n",
       "      <th>35</th>\n",
       "      <td>2017</td>\n",
       "      <td>20</td>\n",
       "    </tr>\n",
       "    <tr>\n",
       "      <th>36</th>\n",
       "      <td>2018</td>\n",
       "      <td>23</td>\n",
       "    </tr>\n",
       "    <tr>\n",
       "      <th>37</th>\n",
       "      <td>2019</td>\n",
       "      <td>23</td>\n",
       "    </tr>\n",
       "    <tr>\n",
       "      <th>38</th>\n",
       "      <td>2020</td>\n",
       "      <td>21</td>\n",
       "    </tr>\n",
       "    <tr>\n",
       "      <th>39</th>\n",
       "      <td>2021</td>\n",
       "      <td>21</td>\n",
       "    </tr>\n",
       "    <tr>\n",
       "      <th>40</th>\n",
       "      <td>2022</td>\n",
       "      <td>21</td>\n",
       "    </tr>\n",
       "    <tr>\n",
       "      <th>41</th>\n",
       "      <td>2023</td>\n",
       "      <td>21</td>\n",
       "    </tr>\n",
       "    <tr>\n",
       "      <th>42</th>\n",
       "      <td>2024</td>\n",
       "      <td>21</td>\n",
       "    </tr>\n",
       "  </tbody>\n",
       "</table>\n",
       "</div>"
      ],
      "text/plain": [
       "    Year  area\n",
       "0   1982    23\n",
       "1   1983    23\n",
       "2   1984    23\n",
       "3   1985    23\n",
       "4   1986    23\n",
       "5   1987    23\n",
       "6   1988    23\n",
       "7   1989    23\n",
       "8   1990    23\n",
       "9   1991    22\n",
       "10  1992    23\n",
       "11  1993    23\n",
       "12  1994    23\n",
       "13  1995    23\n",
       "14  1996    23\n",
       "15  1997    20\n",
       "16  1998    16\n",
       "17  1999    23\n",
       "18  2000    23\n",
       "19  2001    19\n",
       "20  2002    20\n",
       "21  2003    18\n",
       "22  2004     6\n",
       "23  2005    14\n",
       "24  2006    19\n",
       "25  2007    20\n",
       "26  2008    20\n",
       "27  2009    23\n",
       "28  2010    21\n",
       "29  2011    19\n",
       "30  2012    17\n",
       "31  2013    22\n",
       "32  2014    19\n",
       "33  2015    23\n",
       "34  2016    21\n",
       "35  2017    20\n",
       "36  2018    23\n",
       "37  2019    23\n",
       "38  2020    21\n",
       "39  2021    21\n",
       "40  2022    21\n",
       "41  2023    21\n",
       "42  2024    21"
      ]
     },
     "execution_count": 15,
     "metadata": {},
     "output_type": "execute_result"
    }
   ],
   "source": [
    "moderate_droughts(20)"
   ]
  }
 ],
 "metadata": {
  "kernelspec": {
   "display_name": "Python 3",
   "language": "python",
   "name": "python3"
  },
  "language_info": {
   "codemirror_mode": {
    "name": "ipython",
    "version": 3
   },
   "file_extension": ".py",
   "mimetype": "text/x-python",
   "name": "python",
   "nbconvert_exporter": "python",
   "pygments_lexer": "ipython3",
   "version": "3.13.2"
  }
 },
 "nbformat": 4,
 "nbformat_minor": 5
}
