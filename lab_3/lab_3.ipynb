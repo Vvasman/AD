{
 "cells": [
  {
   "cell_type": "markdown",
   "metadata": {},
   "source": [
    "<h1>Лабораторна робота #3 </h1>\n",
    "<h2>ФБ-33 Грабченко Олександр</h2>\n",
    "\n"
   ]
  },
  {
   "cell_type": "markdown",
   "metadata": {},
   "source": [
    "<p>\n",
    "  3. Створіть веб додаток за допомогою бібліотеки Spyre\n",
    "  (https://dataspyre.readthedocs.io/en/latest/)\n",
    "</p>\n",
    "<p>\n",
    "  4. Додати випадаючий список drop-down list як наведено в example 2\n",
    "  (https://dataspyre.readthedocs.io/en/latest/getting_started.html#example-2-tabs-and-tables)\n",
    "  Випадаючий список має містити VCI, TCI, VHI\n",
    "  Де значення беруться із датафрему df з минулої лабораторної роботи (df[[‘VCI’,’TCI’,’VHI’]]).\n",
    "  Не забуваємо, що key це параметр за допомогою якого ви можете отримувати вибране\n",
    "  значення. Логічні операції вам в допомогу.\n",
    "</p>\n",
    "<p>\n",
    "  5. Створити ще один випадаючий список для вибору області\n",
    "</p>\n",
    "<p>\n",
    "  6. Створити текстове поле для введення інтервалу місяців\n",
    "</p>\n",
    "<p>\n",
    " 7. Створити таблицю та графік для відображення даних\n",
    "</p>"
   ]
  },
  {
   "cell_type": "code",
   "execution_count": 1,
   "metadata": {},
   "outputs": [
    {
     "name": "stderr",
     "output_type": "stream",
     "text": [
      "WARNING:root:Warning: unable to set defaultencoding to utf-8\n"
     ]
    }
   ],
   "source": [
    "from spyre import server\n",
    "import __main__\n",
    "__main__.__file__ = \"main_file\"\n",
    "\n",
    "import pandas\n",
    "from urllib.request import urlopen, Request\n",
    "from urllib.error import HTTPError\n",
    "import json\n",
    "import datetime\n",
    "import os\n",
    "import re"
   ]
  },
  {
   "cell_type": "code",
   "execution_count": 2,
   "metadata": {},
   "outputs": [],
   "source": [
    "province_path = \"provinces.json\"\n",
    "country_path = \"countries.json\"\n",
    "province_order_path = 'province_changed_order.json'\n",
    "\n",
    "def get_sp_provinces(country):\n",
    "    with open(province_path) as fd:\n",
    "        province_json:dict = json.load(fd)\n",
    "    \n",
    "    country_provinces:dict = province_json[country]\n",
    "    sp_provinces = []\n",
    "\n",
    "    for province_id, province_name in country_provinces.items():\n",
    "        sp_provinces.append({\"label\": province_name, \"value\": province_id})\n",
    "\n",
    "    province_number = len(sp_provinces)\n",
    "    return sp_provinces, province_number"
   ]
  },
  {
   "cell_type": "code",
   "execution_count": 3,
   "metadata": {},
   "outputs": [],
   "source": [
    "class Data:\n",
    "    def __init__(self, dir_path, country):\n",
    "        _, province_number = get_sp_provinces(country)\n",
    "        self.df = None\n",
    "        self.country = country\n",
    "        self.dir_path = os.path.join(dir_path, country)\n",
    "        self.province_number = province_number\n",
    "\n",
    "    def formatData(self, unformatted_data):\n",
    "        formatted_data = re.sub(\"<[^<]+?>\", '', unformatted_data)\n",
    "        return formatted_data\n",
    "    \n",
    "\n",
    "    def clearDir(self):\n",
    "        for file_name in os.listdir(self.dir_path):\n",
    "            file_path = os.path.join(self.dir_path, file_name)\n",
    "            try:\n",
    "                if os.path.isfile(file_path):\n",
    "                    os.unlink(file_path)\n",
    "            except Exception as e:\n",
    "                print(\"Failed to delete {}. Reason: {}\".format(file_path, e))\n",
    "\n",
    "\n",
    "    def downloadDataForProvince(self, province_id, start_year=1981, end_year=None):\n",
    "        try:\n",
    "            curr_year = datetime.datetime.now().year\n",
    "\n",
    "            if (end_year is None) or (end_year > curr_year) or (end_year < start_year):\n",
    "                end_year = curr_year\n",
    "\n",
    "            data_type = \"Mean\" \n",
    "            curr_datetime = datetime.datetime.now().strftime(\"%Y%m%d%H%M%S\")\n",
    "\n",
    "            data_url = \"https://www.star.nesdis.noaa.gov/smcd/emb/vci/VH/get_TS_admin.php\" + \\\n",
    "                \"?country={}&provinceID={}&year1={}&year2={}&type={}\".format(self.country.upper(), province_id, str(start_year), str(end_year), data_type)\n",
    "\n",
    "            data_path = \"{}/NOAA_ID{}_{}.csv\".format(self.dir_path, province_id, curr_datetime)\n",
    "\n",
    "            request = Request(data_url, method=\"GET\")\n",
    "            responce = urlopen(request)\n",
    "            raw_data = responce.read()\n",
    "            unformatted_data = raw_data.decode('utf-8')\n",
    "\n",
    "            formated_data = self.formatData(unformatted_data)\n",
    "            \n",
    "            with open(data_path, \"w\") as raw_data_file:\n",
    "                raw_data_file.write(formated_data)\n",
    "\n",
    "        except HTTPError as e:\n",
    "            print(e.code())\n",
    "            print(e.read())\n",
    "\n",
    "\n",
    "    def downloadData(self):\n",
    "        if not (os.path.exists(self.dir_path) and os.path.isdir(self.dir_path)):\n",
    "            print(\"{} does not exist. Creating...\")\n",
    "            os.makedirs(self.dir_path, exist_ok=True)\n",
    "            print(\"Data does not exist. The download will still happen.\")\n",
    "        else:\n",
    "            self.clearDir()\n",
    "\n",
    "        for i in range(1, self.province_number + 1):\n",
    "            self.downloadDataForProvince(i) \n",
    "    \n",
    "\n",
    "    def getProvinceName(self, file_path):\n",
    "        data_file =  open(file_path, 'r')\n",
    "        data_info = data_file.readline()\n",
    "\n",
    "        province_name = data_info[data_info.find(\":\") + 2:data_info.find(\",\")]\n",
    "        province_id = data_info[data_info.find(\"=\") + 2:data_info.find(\":\")]\n",
    "        data_file.close()\n",
    "        return province_id, province_name\n",
    "\n",
    "\n",
    "    def createDataframeForProvince(self, file_path):\n",
    "        headers = [\"year\", \"week\", \"SMN\", \"SMT\", \"VCI\", \"TCI\", \"VHI\", \"empty\"]\n",
    "\n",
    "        province_id, _ = self.getProvinceName(file_path)\n",
    "        df = pandas.read_csv(file_path, header=1, names=headers)\n",
    "        df.insert(0, \"province_id\", province_id, True)\n",
    "        df = df.drop(columns=[\"empty\"])\n",
    "        return df\n",
    "\n",
    "    def createDataframe(self):\n",
    "        if not (os.path.exists(self.dir_path) and os.path.isdir(self.dir_path)):\n",
    "            print(\"{} does not exists.\".format(self.dir_path))\n",
    "            return\n",
    "\n",
    "        province_df_list = []\n",
    "        for file_name in os.listdir(self.dir_path):\n",
    "            file_path = os.path.join(self.dir_path, file_name)\n",
    "            province_df = self.createDataframeForProvince(file_path)\n",
    "            province_df_list.append(province_df)\n",
    "\n",
    "        country_df = pandas.concat(province_df_list)\n",
    "        self.df = country_df\n",
    "\n",
    "    def changeProvinceIndeces(self):\n",
    "        with open(province_order_path, 'r') as province_order_json:\n",
    "            province_order:dict = json.load(province_order_json)\n",
    "\n",
    "        country_province_order:dict = province_order[self.country]\n",
    "        for old, new in country_province_order.items():\n",
    "            self.df.loc[self.df[\"province_id\"] == old, \"province_id\"] = int(new)\n",
    "    \n",
    "\n",
    "    def clearDataFrame(self):\n",
    "        self.df = self.df.drop(self.df.loc[(self.df[\"VHI\"] == -1)].index)\n",
    "    \n",
    "    def getDataFrame(self):\n",
    "        if self.df is None:\n",
    "            self.createDataframe()\n",
    "        \n",
    "        return self.df\n"
   ]
  },
  {
   "cell_type": "code",
   "execution_count": 4,
   "metadata": {},
   "outputs": [],
   "source": [
    "class WebApp(server.App):\n",
    "\n",
    "    def __init__(self, df, country):\n",
    "        super().__init__()\n",
    "        sp_provinces, _ = get_sp_provinces(country)\n",
    "        min_year = 1982\n",
    "        max_year = datetime.datetime.now().year\n",
    "\n",
    "        self.title = \"NOAA Data Visualisation\"\n",
    "        self.df = df\n",
    "        self.country = country\n",
    "\n",
    "        self.inputs = [\n",
    "            dict(\n",
    "                type=\"dropdown\",\n",
    "                label= \"Indices types\",\n",
    "                options=[\n",
    "                    {\"label\": \"VCI\", \"value\": \"VCI\"},\n",
    "                    {\"label\": \"TCI\", \"value\": \"TCI\"},\n",
    "                    {\"label\": \"VHI\", \"value\": \"VHI\"},\n",
    "                ],\n",
    "                key=\"indices_type\",\n",
    "                action_id=\"update_data\",\n",
    "            ),\n",
    "            dict(\n",
    "                type=\"dropdown\",\n",
    "                label=\"Province\",\n",
    "                options=sp_provinces,\n",
    "                key=\"province\",\n",
    "                action_id=\"update_data\",\n",
    "            ),\n",
    "            dict(\n",
    "                type=\"slider\",\n",
    "                label=\"Year\",\n",
    "                key=\"year\",\n",
    "                value=2000,\n",
    "                min=min_year,\n",
    "                max=max_year,\n",
    "                action_id=\"update_data\",\n",
    "            ),\n",
    "            dict(\n",
    "                type=\"text\",\n",
    "                key=\"week_range\",\n",
    "                label=\"Week range (1/52)\",\n",
    "                value=\"2/10\",\n",
    "                action_id=\"update_data\",\n",
    "            ),\n",
    "        ]\n",
    "\n",
    "        self.controls = [{\n",
    "            \"type\" : \"hidden\",\n",
    "            \"id\" : \"update_data\"\n",
    "        }]\n",
    "\n",
    "        self.tabs = [\n",
    "            \"Plot\",\n",
    "            \"Table\",\n",
    "        ]\n",
    "\n",
    "        self.outputs = [\n",
    "            dict(\n",
    "                type=\"plot\",\n",
    "                id=\"get_table\",\n",
    "                control_id=\"update_data\",\n",
    "                tab=\"Plot\",\n",
    "            ),\n",
    "            dict(\n",
    "                type=\"table\",\n",
    "                id=\"table\",\n",
    "                control_id=\"update_data\",\n",
    "                tab=\"Table\",\n",
    "                on_page_load=True,\n",
    "            ),\n",
    "        ]\n",
    "\n",
    "\n",
    "    def getProvinceName(self, province_id):\n",
    "        with open(province_path) as fd:\n",
    "            provinces_dict = json.load(fd)\n",
    "\n",
    "        return provinces_dict[self.country][str(province_id)]\n",
    "\n",
    "    def getCountryName(self):\n",
    "        with open(country_path) as fd:\n",
    "            countries_dict = json.load(fd)\n",
    "        \n",
    "        return countries_dict[self.country]\n",
    "\n",
    "    def prepareData(self, params):\n",
    "        year = params[\"year\"]\n",
    "        \n",
    "        week_range:list[str] = params[\"week_range\"].split('/')\n",
    "        if len(week_range) != 2:\n",
    "            return\n",
    "        week_low = 0\n",
    "        week_high = 0\n",
    "        if not (week_range[0].isnumeric() and week_range[1].isnumeric()):\n",
    "            return\n",
    "        else:\n",
    "            week_low = int(week_range[0])\n",
    "            week_high = int(week_range[1])\n",
    "        \n",
    "        province_id = int(params[\"province\"])\n",
    "\n",
    "        df:pandas.DataFrame = self.df.loc[\n",
    "            (self.df[\"province_id\"] == province_id)\n",
    "            & (self.df[\"year\"] == year)\n",
    "            & (self.df[\"week\"] >= week_low)\n",
    "            & (self.df[\"week\"] <= week_high)\n",
    "        ]\n",
    "\n",
    "        return df\n",
    "\n",
    "    def getPlot(self, params):\n",
    "        indices_type = params[\"indices_type\"]\n",
    "        year = int(params[\"year\"])\n",
    "        df:pandas.DataFrame = self.prepareData(params)[[\"week\", indices_type]].set_index(\"week\")\n",
    "\n",
    "        province_id = int(params[\"province\"])\n",
    "        province_name = self.getProvinceName(province_id)\n",
    "        font = {'family':'serif','color':'black','size':12}\n",
    "        country = self.getCountryName()\n",
    "        plt_obj = df.plot(color='r', linewidth='1.0', marker='o', mfc='k', mec='k', ms=2)\n",
    "        \n",
    "        plt_obj.set_ylabel(indices_type, fontdict=font)\n",
    "        plt_obj.set_xlabel(\"Weeks\", fontdict=font)\n",
    "        plt_obj.set_title(\"Dependence of {} on time ({}, {}, {})\".format(indices_type, country, province_name, year), fontdict=font)\n",
    "        plt_obj.grid(visible=True, color='blue', linestyle='--', linewidth='0.4')\n",
    "\n",
    "        fig = plt_obj.get_figure()\n",
    "        fig.set_figheight(7)\n",
    "        fig.set_figwidth(16)\n",
    "        return fig\n",
    "\n",
    "    def getTable(self, params):\n",
    "        df = self.prepareData(params)[[\"province_id\", \"year\", \"week\", params[\"indices_type\"]]]\n",
    "        return df"
   ]
  },
  {
   "cell_type": "code",
   "execution_count": 5,
   "metadata": {},
   "outputs": [
    {
     "name": "stdout",
     "output_type": "stream",
     "text": [
      "{} does not exist. Creating...\n",
      "Data does not exist. The download will still happen.\n"
     ]
    }
   ],
   "source": [
    "country = \"ukr\"\n",
    "data_dir_path = \"dfs\"\n",
    "\n",
    "\n",
    "data = Data(country=country, dir_path=data_dir_path)\n",
    "data.downloadData()\n",
    "data.createDataframe()\n",
    "data.changeProvinceIndeces()\n",
    "data.clearDataFrame()\n",
    "\n",
    "app = WebApp(data.getDataFrame(), country)"
   ]
  },
  {
   "cell_type": "code",
   "execution_count": null,
   "metadata": {},
   "outputs": [],
   "source": []
  },
  {
   "cell_type": "code",
   "execution_count": null,
   "metadata": {},
   "outputs": [
    {
     "name": "stderr",
     "output_type": "stream",
     "text": [
      "[17/Apr/2025:12:23:52] ENGINE Listening for SIGTERM.\n",
      "INFO:cherrypy.error:[17/Apr/2025:12:23:52] ENGINE Listening for SIGTERM.\n",
      "[17/Apr/2025:12:23:52] ENGINE Bus STARTING\n",
      "INFO:cherrypy.error:[17/Apr/2025:12:23:52] ENGINE Bus STARTING\n",
      "[17/Apr/2025:12:23:52] ENGINE Set handler for console events.\n",
      "INFO:cherrypy.error:[17/Apr/2025:12:23:52] ENGINE Set handler for console events.\n",
      "CherryPy Checker:\n",
      "The Application mounted at '' has an empty config.\n",
      "\n",
      "[17/Apr/2025:12:23:52] ENGINE Started monitor thread 'Autoreloader'.\n",
      "INFO:cherrypy.error:[17/Apr/2025:12:23:52] ENGINE Started monitor thread 'Autoreloader'.\n",
      "[17/Apr/2025:12:23:52] ENGINE Serving on http://127.0.0.1:8080\n",
      "INFO:cherrypy.error:[17/Apr/2025:12:23:52] ENGINE Serving on http://127.0.0.1:8080\n",
      "[17/Apr/2025:12:23:52] ENGINE Bus STARTED\n",
      "INFO:cherrypy.error:[17/Apr/2025:12:23:52] ENGINE Bus STARTED\n"
     ]
    },
    {
     "name": "stdout",
     "output_type": "stream",
     "text": [
      "127.0.0.1 - - [17/Apr/2025:12:25:27] \"GET / HTTP/1.1\" 200 442868 \"\" \"Mozilla/5.0 (Windows NT 10.0; Win64; x64) AppleWebKit/537.36 (KHTML, like Gecko) Chrome/135.0.0.0 Safari/537.36\"\n"
     ]
    },
    {
     "name": "stderr",
     "output_type": "stream",
     "text": [
      "INFO:cherrypy.access.2362400324688:127.0.0.1 - - [17/Apr/2025:12:25:27] \"GET / HTTP/1.1\" 200 442868 \"\" \"Mozilla/5.0 (Windows NT 10.0; Win64; x64) AppleWebKit/537.36 (KHTML, like Gecko) Chrome/135.0.0.0 Safari/537.36\"\n"
     ]
    },
    {
     "name": "stdout",
     "output_type": "stream",
     "text": [
      "127.0.0.1 - - [17/Apr/2025:12:25:27] \"GET /spinning_wheel HTTP/1.1\" 200 2663 \"http://127.0.0.1:8080/\" \"Mozilla/5.0 (Windows NT 10.0; Win64; x64) AppleWebKit/537.36 (KHTML, like Gecko) Chrome/135.0.0.0 Safari/537.36\"\n"
     ]
    },
    {
     "name": "stderr",
     "output_type": "stream",
     "text": [
      "INFO:cherrypy.access.2362400324688:127.0.0.1 - - [17/Apr/2025:12:25:27] \"GET /spinning_wheel HTTP/1.1\" 200 2663 \"http://127.0.0.1:8080/\" \"Mozilla/5.0 (Windows NT 10.0; Win64; x64) AppleWebKit/537.36 (KHTML, like Gecko) Chrome/135.0.0.0 Safari/537.36\"\n"
     ]
    },
    {
     "name": "stdout",
     "output_type": "stream",
     "text": [
      "127.0.0.1 - - [17/Apr/2025:12:25:27] \"GET /table?indices_type=VCI&province=1&year=__float__2000&week_range=2/10&output_id=table& HTTP/1.1\" 200 1230 \"http://127.0.0.1:8080/\" \"Mozilla/5.0 (Windows NT 10.0; Win64; x64) AppleWebKit/537.36 (KHTML, like Gecko) Chrome/135.0.0.0 Safari/537.36\"\n"
     ]
    },
    {
     "name": "stderr",
     "output_type": "stream",
     "text": [
      "INFO:cherrypy.access.2362400324688:127.0.0.1 - - [17/Apr/2025:12:25:27] \"GET /table?indices_type=VCI&province=1&year=__float__2000&week_range=2/10&output_id=table& HTTP/1.1\" 200 1230 \"http://127.0.0.1:8080/\" \"Mozilla/5.0 (Windows NT 10.0; Win64; x64) AppleWebKit/537.36 (KHTML, like Gecko) Chrome/135.0.0.0 Safari/537.36\"\n",
      "ERROR:root:Error: getPlot method must return an pyplot figure or matplotlib Axes object\n"
     ]
    },
    {
     "name": "stdout",
     "output_type": "stream",
     "text": [
      "127.0.0.1 - - [17/Apr/2025:12:25:27] \"GET /plot?indices_type=VCI&province=1&year=__float__2000&week_range=2/10&output_id=get_table& HTTP/1.1\" 200 44472 \"http://127.0.0.1:8080/\" \"Mozilla/5.0 (Windows NT 10.0; Win64; x64) AppleWebKit/537.36 (KHTML, like Gecko) Chrome/135.0.0.0 Safari/537.36\"\n"
     ]
    },
    {
     "name": "stderr",
     "output_type": "stream",
     "text": [
      "INFO:cherrypy.access.2362400324688:127.0.0.1 - - [17/Apr/2025:12:25:27] \"GET /plot?indices_type=VCI&province=1&year=__float__2000&week_range=2/10&output_id=get_table& HTTP/1.1\" 200 44472 \"http://127.0.0.1:8080/\" \"Mozilla/5.0 (Windows NT 10.0; Win64; x64) AppleWebKit/537.36 (KHTML, like Gecko) Chrome/135.0.0.0 Safari/537.36\"\n"
     ]
    },
    {
     "name": "stdout",
     "output_type": "stream",
     "text": [
      "127.0.0.1 - - [17/Apr/2025:12:25:27] \"GET /favicon.ico HTTP/1.1\" 200 1406 \"http://127.0.0.1:8080/\" \"Mozilla/5.0 (Windows NT 10.0; Win64; x64) AppleWebKit/537.36 (KHTML, like Gecko) Chrome/135.0.0.0 Safari/537.36\"\n"
     ]
    },
    {
     "name": "stderr",
     "output_type": "stream",
     "text": [
      "INFO:cherrypy.access.2362400324688:127.0.0.1 - - [17/Apr/2025:12:25:27] \"GET /favicon.ico HTTP/1.1\" 200 1406 \"http://127.0.0.1:8080/\" \"Mozilla/5.0 (Windows NT 10.0; Win64; x64) AppleWebKit/537.36 (KHTML, like Gecko) Chrome/135.0.0.0 Safari/537.36\"\n"
     ]
    }
   ],
   "source": [
    "app.launch()"
   ]
  },
  {
   "cell_type": "markdown",
   "metadata": {},
   "source": [
    "<p>\n",
    "  Приклад роботи:\n",
    "</p>\n",
    "<p>\n",
    "   - Графік\n",
    "</p>\n",
    "<img src=\"images/Screenshot 2024-03-29 010443.png\">\n",
    "<p>\n",
    "  - Таблиця\n",
    "</p>\n",
    "<img src=\"images/Screenshot 2024-03-29 010512.png\">"
   ]
  }
 ],
 "metadata": {
  "kernelspec": {
   "display_name": "Python 3",
   "language": "python",
   "name": "python3"
  },
  "language_info": {
   "codemirror_mode": {
    "name": "ipython",
    "version": 3
   },
   "file_extension": ".py",
   "mimetype": "text/x-python",
   "name": "python",
   "nbconvert_exporter": "python",
   "pygments_lexer": "ipython3",
   "version": "3.13.2"
  }
 },
 "nbformat": 4,
 "nbformat_minor": 2
}
